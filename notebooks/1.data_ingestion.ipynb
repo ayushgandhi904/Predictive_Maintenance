{
 "cells": [
  {
   "cell_type": "code",
   "execution_count": 1,
   "metadata": {},
   "outputs": [],
   "source": [
    "import os\n",
    "import sys\n",
    "import pymysql"
   ]
  },
  {
   "cell_type": "code",
   "execution_count": 2,
   "metadata": {},
   "outputs": [
    {
     "data": {
      "text/plain": [
       "'e:\\\\ML_Projects\\\\Predictive_Maintenance\\\\notebooks'"
      ]
     },
     "execution_count": 2,
     "metadata": {},
     "output_type": "execute_result"
    }
   ],
   "source": [
    "%pwd"
   ]
  },
  {
   "cell_type": "code",
   "execution_count": 3,
   "metadata": {},
   "outputs": [],
   "source": [
    "os.chdir(\"../\")"
   ]
  },
  {
   "cell_type": "code",
   "execution_count": 4,
   "metadata": {},
   "outputs": [
    {
     "data": {
      "text/plain": [
       "'e:\\\\ML_Projects\\\\Predictive_Maintenance'"
      ]
     },
     "execution_count": 4,
     "metadata": {},
     "output_type": "execute_result"
    }
   ],
   "source": [
    "%pwd"
   ]
  },
  {
   "cell_type": "code",
   "execution_count": 5,
   "metadata": {},
   "outputs": [],
   "source": [
    "from src.exception import CustomException\n",
    "from src.logger import logging\n",
    "import pandas as pd \n",
    "from dataclasses import dataclass"
   ]
  },
  {
   "cell_type": "code",
   "execution_count": 6,
   "metadata": {},
   "outputs": [],
   "source": [
    "@dataclass\n",
    "class DataIngestionConfig:\n",
    "    train_data_path:str = os.path.join(\"artifacts\", \"train.csv\")\n",
    "    test_data_path:str = os.path.join(\"artifacts\", \"test.csv\")"
   ]
  },
  {
   "cell_type": "code",
   "execution_count": 7,
   "metadata": {},
   "outputs": [],
   "source": [
    "from dotenv import load_dotenv\n",
    "\n",
    "host = os.getenv(\"host\")\n",
    "user = os.getenv(\"user\")\n",
    "password = os.getenv(\"password\")\n",
    "db = os.getenv(\"db\")"
   ]
  },
  {
   "cell_type": "code",
   "execution_count": 8,
   "metadata": {},
   "outputs": [],
   "source": [
    "def read_sql_data():\n",
    "    logging.info(\"Reading SQL Database\")\n",
    "    \n",
    "    try:\n",
    "        mydb = pymysql.connect(\n",
    "            host = host,\n",
    "            user = user,\n",
    "            password = password,\n",
    "            db = db\n",
    "        )\n",
    "        logging.info(\"Connection establish\")\n",
    "        \n",
    "        df_train = pd.read_sql_query(\"select * from train1\", mydb)\n",
    "        logging.info(\"Train readed\")\n",
    "        df_test = pd.read_sql_query(\"select * from test1\", mydb)\n",
    "        logging.info(\"Test readed\")\n",
    "        \n",
    "        print(df_train.head())\n",
    "        print(df_test.head())\n",
    "        \n",
    "        return df_train, df_test\n",
    "        \n",
    "    except Exception as e:\n",
    "        raise CustomException(e, sys)"
   ]
  },
  {
   "cell_type": "code",
   "execution_count": 9,
   "metadata": {},
   "outputs": [],
   "source": [
    "class DataIngestion:\n",
    "    \n",
    "    def __init__(self):\n",
    "        self.ingestion_config = DataIngestionConfig()\n",
    "        \n",
    "    def initiate_data_ingestion(self):\n",
    "        try:\n",
    "            df = read_sql_data()\n",
    "            logging.info(\"Reading from SQL database\")\n",
    "            \n",
    "            os.makedirs(os.path.dirname(self.ingestion_config.train_data_path), exist_ok = True)\n",
    "            os.makedirs(os.path.dirname(self.ingestion_config.test_data_path), exist_ok = True)\n",
    "            \n",
    "            df[0].to_csv(self.ingestion_config.train_data_path, index = False, header = True)\n",
    "            df[1].to_csv(self.ingestion_config.test_data_path, index = False, header = True)\n",
    "            \n",
    "            logging.info(\"Data Ingestion Completed\")\n",
    "            \n",
    "            return(\n",
    "                self.ingestion_config.train_data_path,\n",
    "                self.ingestion_config.test_data_path\n",
    "            )\n",
    "        except Exception as e:\n",
    "            raise CustomException(e, sys)"
   ]
  },
  {
   "cell_type": "code",
   "execution_count": 10,
   "metadata": {},
   "outputs": [
    {
     "name": "stderr",
     "output_type": "stream",
     "text": [
      "C:\\Users\\Ayush Gandhi\\AppData\\Local\\Temp\\ipykernel_16196\\1192899679.py:13: UserWarning: pandas only supports SQLAlchemy connectable (engine/connection) or database string URI or sqlite3 DBAPI2 connection. Other DBAPI2 objects are not tested. Please consider using SQLAlchemy.\n",
      "  df_train = pd.read_sql_query(\"select * from train1\", mydb)\n",
      "C:\\Users\\Ayush Gandhi\\AppData\\Local\\Temp\\ipykernel_16196\\1192899679.py:15: UserWarning: pandas only supports SQLAlchemy connectable (engine/connection) or database string URI or sqlite3 DBAPI2 connection. Other DBAPI2 objects are not tested. Please consider using SQLAlchemy.\n",
      "  df_test = pd.read_sql_query(\"select * from test1\", mydb)\n"
     ]
    },
    {
     "name": "stdout",
     "output_type": "stream",
     "text": [
      "   Engine_no  Cycle_no  Setting_1  Setting_2  Setting_3  \\\n",
      "0          1         1    -0.0007    -0.0004      100.0   \n",
      "1          1         2     0.0019    -0.0003      100.0   \n",
      "2          1         3    -0.0043     0.0003      100.0   \n",
      "3          1         4     0.0007     0.0000      100.0   \n",
      "4          1         5    -0.0019    -0.0002      100.0   \n",
      "\n",
      "   Fan_inlet_temperature  LPC_outlet_temperature  HPC_outlet_temperature  \\\n",
      "0                 518.67                  641.82                 1589.70   \n",
      "1                 518.67                  642.15                 1591.82   \n",
      "2                 518.67                  642.35                 1587.99   \n",
      "3                 518.67                  642.35                 1582.79   \n",
      "4                 518.67                  642.37                 1582.85   \n",
      "\n",
      "   LPT_outlet_temperature  Fan_inlet_pressure  ...  Fan_speed  Core_speed  \\\n",
      "0                 1400.60               14.62  ...    2388.02     8138.62   \n",
      "1                 1403.14               14.62  ...    2388.07     8131.49   \n",
      "2                 1404.20               14.62  ...    2388.03     8133.23   \n",
      "3                 1401.87               14.62  ...    2388.08     8133.83   \n",
      "4                 1406.22               14.62  ...    2388.04     8133.80   \n",
      "\n",
      "   Bypass_ratio  Burner_fuel_air_ratio  Bleed_enthalpy  Required_fan_speed  \\\n",
      "0        8.4195                   0.03             392                2388   \n",
      "1        8.4318                   0.03             392                2388   \n",
      "2        8.4178                   0.03             390                2388   \n",
      "3        8.3682                   0.03             392                2388   \n",
      "4        8.4294                   0.03             393                2388   \n",
      "\n",
      "   Required_fan_conversion_speed  High_pressure_cool_air_flow  \\\n",
      "0                          100.0                        39.06   \n",
      "1                          100.0                        39.00   \n",
      "2                          100.0                        38.95   \n",
      "3                          100.0                        38.88   \n",
      "4                          100.0                        38.90   \n",
      "\n",
      "   Low_pressure_cool_air_flow  RUL  \n",
      "0                     23.4190  191  \n",
      "1                     23.4236  190  \n",
      "2                     23.3442  189  \n",
      "3                     23.3739  188  \n",
      "4                     23.4044  187  \n",
      "\n",
      "[5 rows x 27 columns]\n",
      "   Engine_no  Cycle_no  Setting_1  Setting_2  Setting_3  \\\n",
      "0          1         1     0.0023     0.0003      100.0   \n",
      "1          1         2    -0.0027    -0.0003      100.0   \n",
      "2          1         3     0.0003     0.0001      100.0   \n",
      "3          1         4     0.0042     0.0000      100.0   \n",
      "4          1         5     0.0014     0.0000      100.0   \n",
      "\n",
      "   Fan_inlet_temperature  LPC_outlet_temperature  HPC_outlet_temperature  \\\n",
      "0                 518.67                  643.02                 1585.29   \n",
      "1                 518.67                  641.71                 1588.45   \n",
      "2                 518.67                  642.46                 1586.94   \n",
      "3                 518.67                  642.44                 1584.12   \n",
      "4                 518.67                  642.51                 1587.19   \n",
      "\n",
      "   LPT_outlet_temperature  Fan_inlet_pressure  ...  Fan_speed  Core_speed  \\\n",
      "0                 1398.21               14.62  ...    2388.03     8125.55   \n",
      "1                 1395.42               14.62  ...    2388.06     8139.62   \n",
      "2                 1401.34               14.62  ...    2388.03     8130.10   \n",
      "3                 1406.42               14.62  ...    2388.05     8132.90   \n",
      "4                 1401.92               14.62  ...    2388.03     8129.54   \n",
      "\n",
      "   Bypass_ratio  Burner_fuel_air_ratio  Bleed_enthalpy  Required_fan_speed  \\\n",
      "0        8.4052                   0.03             392                2388   \n",
      "1        8.3803                   0.03             393                2388   \n",
      "2        8.4441                   0.03             393                2388   \n",
      "3        8.3917                   0.03             391                2388   \n",
      "4        8.4031                   0.03             390                2388   \n",
      "\n",
      "   Required_fan_conversion_speed  High_pressure_cool_air_flow  \\\n",
      "0                          100.0                        38.86   \n",
      "1                          100.0                        39.02   \n",
      "2                          100.0                        39.08   \n",
      "3                          100.0                        39.00   \n",
      "4                          100.0                        38.99   \n",
      "\n",
      "   Low_pressure_cool_air_flow  RUL  \n",
      "0                     23.3735  142  \n",
      "1                     23.3916  141  \n",
      "2                     23.4166  140  \n",
      "3                     23.3737  139  \n",
      "4                     23.4130  138  \n",
      "\n",
      "[5 rows x 27 columns]\n"
     ]
    }
   ],
   "source": [
    "try:\n",
    "    # data_ingestion_config = DataIngestionConfig()\n",
    "    data_ingestion = DataIngestion()\n",
    "    data_ingestion.initiate_data_ingestion()\n",
    "    \n",
    "except Exception as e:\n",
    "    logging.info(\"Custom Exception\")\n",
    "    raise CustomException(e, sys)"
   ]
  },
  {
   "cell_type": "code",
   "execution_count": null,
   "metadata": {},
   "outputs": [],
   "source": []
  }
 ],
 "metadata": {
  "kernelspec": {
   "display_name": "Python 3",
   "language": "python",
   "name": "python3"
  },
  "language_info": {
   "codemirror_mode": {
    "name": "ipython",
    "version": 3
   },
   "file_extension": ".py",
   "mimetype": "text/x-python",
   "name": "python",
   "nbconvert_exporter": "python",
   "pygments_lexer": "ipython3",
   "version": "3.9.0"
  },
  "orig_nbformat": 4
 },
 "nbformat": 4,
 "nbformat_minor": 2
}
